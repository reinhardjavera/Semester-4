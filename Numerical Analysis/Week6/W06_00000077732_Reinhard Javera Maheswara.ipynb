{
 "cells": [
  {
   "cell_type": "code",
   "execution_count": 7,
   "id": "eabbd2be-004c-4057-b2d6-cdf34dfaffb9",
   "metadata": {
    "tags": []
   },
   "outputs": [],
   "source": [
    "import numpy as np"
   ]
  },
  {
   "cell_type": "code",
   "execution_count": 8,
   "id": "6f8855d7-4a11-4c57-a41a-fc56ac7d08a6",
   "metadata": {
    "tags": []
   },
   "outputs": [],
   "source": [
    "def my_ls_params(f, x, y):\n",
    "  if len(x) != len(y):\n",
    "    raise ValueError(\"length x dan y tidak equivalen\")\n",
    "\n",
    "  A = np.vstack([f[i](x) for i in range(len(f))]).T\n",
    "\n",
    "\n",
    "  beta = np.linalg.pinv(A) @ y\n",
    "\n",
    "  return beta"
   ]
  },
  {
   "cell_type": "code",
   "execution_count": 9,
   "id": "4fa66e53-7197-4954-919a-984f55f47820",
   "metadata": {
    "tags": []
   },
   "outputs": [],
   "source": [
    "def f1(x):\n",
    "  return x"
   ]
  },
  {
   "cell_type": "code",
   "execution_count": 10,
   "id": "190843c1-6be0-48f2-b0ba-54c74989eb9e",
   "metadata": {
    "tags": []
   },
   "outputs": [],
   "source": [
    "def f2(x):\n",
    "  return x**2"
   ]
  },
  {
   "cell_type": "code",
   "execution_count": 11,
   "id": "2d2020fb-2143-40c3-b7cf-acac7e45fd42",
   "metadata": {
    "tags": []
   },
   "outputs": [],
   "source": [
    "x = np.linspace(0, 1, 101)\n",
    "y = 1 * x + x + np.random.randn(len(x))\n",
    "f = [f1, f2]"
   ]
  },
  {
   "cell_type": "code",
   "execution_count": 12,
   "id": "9e9ccf2a-4d48-4b5b-b977-a7e7e7d54623",
   "metadata": {
    "tags": []
   },
   "outputs": [
    {
     "name": "stdout",
     "output_type": "stream",
     "text": [
      "[1.81080441 0.35649138]\n"
     ]
    }
   ],
   "source": [
    "beta = my_ls_params(f, x, y)\n",
    "print(beta)"
   ]
  },
  {
   "cell_type": "code",
   "execution_count": null,
   "id": "6e4e8470-8b5c-4b77-a49e-03050b40fc85",
   "metadata": {},
   "outputs": [],
   "source": []
  }
 ],
 "metadata": {
  "kernelspec": {
   "display_name": "Python 3 (ipykernel)",
   "language": "python",
   "name": "python3"
  },
  "language_info": {
   "codemirror_mode": {
    "name": "ipython",
    "version": 3
   },
   "file_extension": ".py",
   "mimetype": "text/x-python",
   "name": "python",
   "nbconvert_exporter": "python",
   "pygments_lexer": "ipython3",
   "version": "3.11.5"
  }
 },
 "nbformat": 4,
 "nbformat_minor": 5
}
