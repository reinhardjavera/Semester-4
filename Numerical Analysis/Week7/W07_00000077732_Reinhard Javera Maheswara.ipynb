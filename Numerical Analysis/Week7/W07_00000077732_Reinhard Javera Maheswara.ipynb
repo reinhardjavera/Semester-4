{
 "cells": [
  {
   "cell_type": "code",
   "execution_count": 12,
   "id": "dd145576",
   "metadata": {},
   "outputs": [],
   "source": [
    "import numpy as np"
   ]
  },
  {
   "cell_type": "code",
   "execution_count": 13,
   "id": "2e40f5b5",
   "metadata": {},
   "outputs": [],
   "source": [
    "def my_lin_interp(x,y,X) : \n",
    "    Y = np.empty(len(X))\n",
    "    for i in range (len(X)):\n",
    "        idx = np.array(np.where(np.array(x) <= X[i])).argmax()\n",
    "        if (idx >= len(x) - 1): idx -= 1\n",
    "        Y[i] = (y[idx]+((y[idx+1]-y[idx])*(X[i]-x[idx])/(x[idx+1]-x[idx])))\n",
    "    return Y"
   ]
  },
  {
   "cell_type": "code",
   "execution_count": 14,
   "id": "4018fdd9",
   "metadata": {},
   "outputs": [
    {
     "name": "stdout",
     "output_type": "stream",
     "text": [
      "[1.  2.  3.  2.5 2. ]\n"
     ]
    }
   ],
   "source": [
    "x = [0, 1, 2]\n",
    "y = [1, 3, 2]\n",
    "X = [0.0, 0.5, 1.0, 1.5, 2.0]\n",
    "\n",
    "Y = my_lin_interp(x,y,X)\n",
    "print(Y)"
   ]
  },
  {
   "cell_type": "code",
   "execution_count": 15,
   "id": "0828694e",
   "metadata": {},
   "outputs": [
    {
     "name": "stdout",
     "output_type": "stream",
     "text": [
      "[1.         0.5        0.5        1.         1.5        1.33333333\n",
      " 1.66666667]\n"
     ]
    }
   ],
   "source": [
    "x = [-2, 0, 2, 3, 6]\n",
    "y = [2, 0, 2, 1, 2]\n",
    "X = [-1, -0.5, 0.5, 1, 2.5, 4, 5]\n",
    "\n",
    "Y = my_lin_interp(x,y,X)\n",
    "print(Y)"
   ]
  },
  {
   "cell_type": "code",
   "execution_count": null,
   "id": "049e96bb",
   "metadata": {},
   "outputs": [],
   "source": []
  },
  {
   "cell_type": "code",
   "execution_count": null,
   "id": "ebe72dc4",
   "metadata": {},
   "outputs": [],
   "source": []
  }
 ],
 "metadata": {
  "kernelspec": {
   "display_name": "Python 3 (ipykernel)",
   "language": "python",
   "name": "python3"
  },
  "language_info": {
   "codemirror_mode": {
    "name": "ipython",
    "version": 3
   },
   "file_extension": ".py",
   "mimetype": "text/x-python",
   "name": "python",
   "nbconvert_exporter": "python",
   "pygments_lexer": "ipython3",
   "version": "3.11.5"
  }
 },
 "nbformat": 4,
 "nbformat_minor": 5
}
