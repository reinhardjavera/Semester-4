{
 "cells": [
  {
   "cell_type": "code",
   "execution_count": 2,
   "id": "f45ea955",
   "metadata": {},
   "outputs": [
    {
     "name": "stdout",
     "output_type": "stream",
     "text": [
      "] : 0.625\n",
      "] : 0.375\n",
      "] : 0.3333333333333333\n"
     ]
    }
   ],
   "source": [
    "def my_num_int(f, a, b, n, option):\n",
    "    h = (b - a) / (n - 1) \n",
    "    \n",
    "    if option == 'rect':\n",
    "        integral = 0\n",
    "        for i in range(1, n):\n",
    "            xi = a + i * h\n",
    "            integral += f(xi)\n",
    "        integral *= h\n",
    "    \n",
    "    elif option == 'trap':\n",
    "        integral = 0.5 * (f(a) + f(b))\n",
    "        for i in range(1, n-1):\n",
    "            xi = a + i * h\n",
    "            integral += f(xi)\n",
    "        integral *= h\n",
    "    \n",
    "    elif option == 'simp':\n",
    "        integral = (1/3) * (f(a) + f(b))\n",
    "        for i in range(1, n-1):\n",
    "            xi = a + i * h\n",
    "            integral += (2/3) * f(xi) if i % 2 == 0 else (4/3) * f(xi)\n",
    "        integral *= h\n",
    "    \n",
    "    else:\n",
    "        raise ValueError(\"Invalid option. Choose 'rect', 'trap', or 'simp'.\")\n",
    "    \n",
    "    return integral\n",
    "\n",
    "# Test case\n",
    "f = lambda x: x**2\n",
    "print(\"] :\", my_num_int(f, 0, 1, 3, 'rect'))  \n",
    "\n",
    "print(\"] :\", my_num_int(f, 0, 1, 3, 'trap'))\n",
    "\n",
    "print(\"] :\", my_num_int(f, 0, 1, 3, 'simp'))"
   ]
  },
  {
   "cell_type": "code",
   "execution_count": null,
   "id": "cb4f3d91",
   "metadata": {},
   "outputs": [],
   "source": []
  }
 ],
 "metadata": {
  "kernelspec": {
   "display_name": "Python 3 (ipykernel)",
   "language": "python",
   "name": "python3"
  },
  "language_info": {
   "codemirror_mode": {
    "name": "ipython",
    "version": 3
   },
   "file_extension": ".py",
   "mimetype": "text/x-python",
   "name": "python",
   "nbconvert_exporter": "python",
   "pygments_lexer": "ipython3",
   "version": "3.11.5"
  }
 },
 "nbformat": 4,
 "nbformat_minor": 5
}
