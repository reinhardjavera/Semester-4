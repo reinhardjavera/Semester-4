{
 "cells": [
  {
   "cell_type": "code",
   "execution_count": 1,
   "metadata": {
    "scrolled": true
   },
   "outputs": [
    {
     "name": "stdout",
     "output_type": "stream",
     "text": [
      "estimate = 1.4142135623746899\n",
      "sqrt(2) = 1.4142135623730951\n",
      "estimate = 1.7320508100147276\n",
      "sqrt(3) = 1.7320508075688772\n",
      "estimate = 2.0000000929222947\n",
      "sqrt(4) = 2.0\n",
      "estimate = 4.000000000076121\n",
      "sqrt(64) = 8.0\n"
     ]
    }
   ],
   "source": [
    "import numpy as np\n",
    "\n",
    "def my_nth_root(x, n, tol):\n",
    "    y = 1.0  # Initial guess\n",
    "    f = lambda y: y ** n - x\n",
    "    f_prime = lambda y: n * y ** (n - 1)\n",
    "    \n",
    "    while np.abs(f(y)) > tol:\n",
    "        y -= f(y) / f_prime(y)\n",
    "        \n",
    "    return y\n",
    "\n",
    "# Test Case\n",
    "estimate = my_nth_root(2, 2, 1e-6)\n",
    "print(\"estimate =\", estimate)\n",
    "print(\"sqrt(2) =\", np.sqrt(2))\n",
    "\n",
    "# Another Test Case\n",
    "estimate = my_nth_root(3, 2, 1e-6)\n",
    "print(\"estimate =\", estimate)\n",
    "print(\"sqrt(3) =\", np.sqrt(3))\n",
    "\n",
    "#Another Test Case\n",
    "estimate = my_nth_root(4, 2, 1e-6)\n",
    "print(\"estimate =\", estimate)\n",
    "print(\"sqrt(4) =\", np.sqrt(4))\n",
    "\n",
    "#Another Test Case\n",
    "estimate = my_nth_root(64, 3, 1e-6)\n",
    "print(\"estimate =\", estimate)\n",
    "print(\"sqrt(64) =\", np.sqrt(64))\n",
    "\n",
    "\n",
    "\n"
   ]
  },
  {
   "cell_type": "code",
   "execution_count": null,
   "metadata": {},
   "outputs": [],
   "source": []
  }
 ],
 "metadata": {
  "kernelspec": {
   "display_name": "Python 3 (ipykernel)",
   "language": "python",
   "name": "python3"
  },
  "language_info": {
   "codemirror_mode": {
    "name": "ipython",
    "version": 3
   },
   "file_extension": ".py",
   "mimetype": "text/x-python",
   "name": "python",
   "nbconvert_exporter": "python",
   "pygments_lexer": "ipython3",
   "version": "3.11.5"
  }
 },
 "nbformat": 4,
 "nbformat_minor": 2
}
