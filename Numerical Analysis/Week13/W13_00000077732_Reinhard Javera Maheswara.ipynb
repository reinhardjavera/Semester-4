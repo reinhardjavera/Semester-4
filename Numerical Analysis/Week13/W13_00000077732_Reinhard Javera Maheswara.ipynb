{
 "cells": [
  {
   "cell_type": "code",
   "execution_count": 15,
   "id": "b10a113e",
   "metadata": {},
   "outputs": [
    {
     "name": "stdout",
     "output_type": "stream",
     "text": [
      "Result\n",
      "[[ 0.          1.1752    ]\n",
      " [ 0.25        1.72943059]\n",
      " [ 0.5         2.89837647]\n",
      " [ 0.75        5.26651059]\n",
      " [ 1.         10.0179    ]]\n"
     ]
    }
   ],
   "source": [
    "import numpy as np\n",
    "\n",
    "def finite_difference(n=4, boundary_conditions=(1.1752, 10.0179)):\n",
    "\n",
    "    # Mendefinisikan koordinat spasial\n",
    "    x = np.linspace(0, 1, n + 1)\n",
    "\n",
    "    # Menghitung jarak antar node\n",
    "    h = x[1] - x[0]\n",
    "\n",
    "    # Menginisialisasi matriks koefisien dan vektor kanan\n",
    "    A = np.zeros((n + 1, n + 1))\n",
    "    b = np.zeros(n + 1)\n",
    "\n",
    "    # Mengatur elemen diagonal matriks koefisien\n",
    "    A[0, 0] = 1\n",
    "    A[-1, -1] = 1\n",
    "\n",
    "    # Mengatur elemen subdiagonal dan superdiagonal matriks koefisien\n",
    "    for i in range(1, n):\n",
    "        A[i, i - 1] = -1\n",
    "        A[i, i] = 2.5\n",
    "        A[i, i + 1] = -1\n",
    "\n",
    "    # Mengatur elemen vektor kanan\n",
    "    b[0] = boundary_conditions[0]\n",
    "    b[-1] = boundary_conditions[1]\n",
    "\n",
    "    for i in range(1, n):\n",
    "        b[i] = 4 * h ** 2\n",
    "\n",
    "    # Menyelesaikan sistem persamaan linier\n",
    "    sol = np.linalg.solve(A, b)\n",
    "\n",
    "    return sol\n",
    "\n",
    "# Menghitung solusi\n",
    "sol = finite_difference()\n",
    "\n",
    "#Print Result\n",
    "print(\"Result\")\n",
    "\n",
    "print(np.column_stack((np.linspace(0, 1, len(sol)), sol)))\n"
   ]
  },
  {
   "cell_type": "code",
   "execution_count": 16,
   "id": "9a10ce18",
   "metadata": {},
   "outputs": [
    {
     "data": {
      "image/png": "[encoded data removed]",
      "text/plain": [
       "<Figure size 640x480 with 1 Axes>"
      ]
     },
     "metadata": {},
     "output_type": "display_data"
    }
   ],
   "source": [
    "import numpy as np\n",
    "\n",
    "import matplotlib.pyplot as plt\n",
    "\n",
    "def finite_difference(n=4, boundary_conditions=(1.1752, 10.0179)):\n",
    "\n",
    "    # Mendefinisikan koordinat spasial\n",
    "    x = np.linspace(0, 1, n + 1)\n",
    "\n",
    "    # Menghitung jarak antar node\n",
    "    h = x[1] - x[0]\n",
    "\n",
    "    # Menginisialisasi matriks koefisien dan vektor kanan\n",
    "    A = np.zeros((n + 1, n + 1))\n",
    "    b = np.zeros(n + 1)\n",
    "\n",
    "    # Mengatur elemen diagonal matriks koefisien\n",
    "    A[0, 0] = 1\n",
    "    A[-1, -1] = 1\n",
    "\n",
    "    # Mengatur elemen subdiagonal dan superdiagonal matriks koefisien\n",
    "    for i in range(1, n):\n",
    "        A[i, i - 1] = -1\n",
    "        A[i, i] = 2.5\n",
    "        A[i, i + 1] = -1\n",
    "\n",
    "    # Mengatur elemen vektor kanan\n",
    "    b[0] = boundary_conditions[0]\n",
    "    b[-1] = boundary_conditions[1]\n",
    "\n",
    "    for i in range(1, n):\n",
    "        b[i] = 4 * h ** 2\n",
    "\n",
    "    # Menyelesaikan sistem persamaan linier\n",
    "    sol = np.linalg.solve(A, b)\n",
    "\n",
    "    return sol\n",
    "\n",
    "# Menghitung solusi\n",
    "sol = finite_difference()\n",
    "\n",
    "# Memvisualisasikan solusi\n",
    "x_values = np.linspace(0, 1, len(sol))\n",
    "plt.plot(x_values, sol, marker='o', linestyle='-')\n",
    "plt.title('Solusi Selisih Hingga')\n",
    "plt.xlabel('x')\n",
    "plt.ylabel('y')\n",
    "plt.grid(True)\n",
    "plt.show()\n"
   ]
  },
  {
   "cell_type": "code",
   "execution_count": null,
   "id": "f70fbe8f",
   "metadata": {},
   "outputs": [],
   "source": []
  }
 ],
 "metadata": {
  "kernelspec": {
   "display_name": "Python 3 (ipykernel)",
   "language": "python",
   "name": "python3"
  },
  "language_info": {
   "codemirror_mode": {
    "name": "ipython",
    "version": 3
   },
   "file_extension": ".py",
   "mimetype": "text/x-python",
   "name": "python",
   "nbconvert_exporter": "python",
   "pygments_lexer": "ipython3",
   "version": "3.11.5"
  }
 },
 "nbformat": 4,
 "nbformat_minor": 5
}
